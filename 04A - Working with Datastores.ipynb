{
 "cells": [
  {
   "cell_type": "markdown",
   "metadata": {},
   "source": [
    "# データストアの操作\n",
    "\n",
    "データ サイエンティストがローカル ファイル システム上のデータを操作することはかなり一般的ですが、エンタープライズ環境では、複数のデータ サイエンティストがアクセスできる中央の場所にデータを格納する方が効果的です。このラボでは、クラウドにデータを格納し、Azure Machine Learning *データストア*を使用してデータにアクセスします。\n",
    "\n",
    "> **重要**: この Notebooks のコードでは、 ラボ 4Aの最初の 2 つのタスクを完了していることを前提としています。完了していない場合は、今すぐ完了してください。\n",
    "\n",
    "\n",
    "## ワークスペースに接続する\n",
    "\n",
    "Azure の機械学習 SDK を使用してデータストアにアクセスするには、ワークスペースに接続する必要があります。\n",
    "\n",
    "> **注**: 前回の演習を完了してから Azure サブスクリプションとの認証済みセッションの有効期限が切れている場合は、再認証を求めるメッセージが表示されます。"
   ]
  },
  {
   "cell_type": "code",
   "execution_count": null,
   "metadata": {},
   "outputs": [],
   "source": [
    "import azureml.core\n",
    "from azureml.core import Workspace\n",
    "\n",
    "# 保存した構成ファイルからワークスペースを読み込む\n",
    "ws = Workspace.from_config()\n",
    "print('Ready to use Azure ML {} to work with {}'.format(azureml.core.VERSION, ws.name))"
   ]
  },
  {
   "cell_type": "markdown",
   "metadata": {},
   "source": [
    "## ワークスペースでデータストアを表示する\n",
    "\n",
    "ワークスペースには、[前のタスク](labdocs/Lab04A.md)で作成した **aml_data** データストアを含む、いくつかのデータストアが含まれています。\n",
    "\n",
    "次のコードを実行して、*既定の*データストアを取得し、すべてのデータストアを一覧表示し、どれが既定であるかを示します。"
   ]
  },
  {
   "cell_type": "code",
   "execution_count": null,
   "metadata": {},
   "outputs": [],
   "source": [
    "from azureml.core import Datastore\n",
    "\n",
    "# 既定のデータストアを取得する\n",
    "default_ds = ws.get_default_datastore()\n",
    "\n",
    "# すべてのデータストアを列挙し、どちらが既定かを示す\n",
    "for ds_name in ws.datastores:\n",
    "    print(ds_name, \"- Default =\", ds_name == default_ds.name)"
   ]
  },
  {
   "cell_type": "markdown",
   "metadata": {},
   "source": [
    "## 操作するデータストアを取得する\n",
    "\n",
    "**aml_data** データストアを操作する必要があるため、名前で取得する必要があります。"
   ]
  },
  {
   "cell_type": "code",
   "execution_count": null,
   "metadata": {},
   "outputs": [],
   "source": [
    "aml_datastore = Datastore.get(ws, 'aml_data')\n",
    "print(aml_datastore.name,\":\", aml_datastore.datastore_type + \" (\" + aml_datastore.account_name + \")\")"
   ]
  },
  {
   "cell_type": "markdown",
   "metadata": {},
   "source": [
    "## 既定のデータストアを設定する\n",
    "\n",
    "このコースでは主に **aml_data** データストアを操作しますので、便利なように、既定のデータストアに設定してください。"
   ]
  },
  {
   "cell_type": "code",
   "execution_count": null,
   "metadata": {},
   "outputs": [],
   "source": [
    "ws.set_default_datastore('aml_data')\n",
    "default_ds = ws.get_default_datastore()\n",
    "print(default_ds.name)"
   ]
  },
  {
   "cell_type": "markdown",
   "metadata": {},
   "source": [
    "## データをデータストアにアップロードする\n",
    "\n",
    "これで、操作するデータストアを特定したので、実際に実験スクリプトが実行されている場所に関係なく、ワークスペースで実行されている実験にアクセスできるように、ローカル ファイル システムからファイルをアップロードできます。"
   ]
  },
  {
   "cell_type": "code",
   "execution_count": null,
   "metadata": {},
   "outputs": [],
   "source": [
    "default_ds.upload_files(files=['./data/diabetes.csv', './data/diabetes2.csv'], # 糖尿病 CSV ファイルを /data にアップロードする\n",
    "                       target_path='diabetes-data/', # データストアのフォルダー パスに入れる\n",
    "                       overwrite=True, # 同じ名前の既存のファイルを置き換える\n",
    "                       show_progress=True)"
   ]
  },
  {
   "cell_type": "markdown",
   "metadata": {},
   "source": [
    "## データストアからモデルをトレーニングする\n",
    "\n",
    "上記のコード セルにファイルをアップロードすると、コードから*データ参照*が返されることに注意してください。データ参照は、スクリプトが実行されている場所に関係なく、データストア内のフォルダーへのパスをスクリプトに渡す方法を提供し、スクリプトがデータストアの場所にあるデータにアクセスできるようにします。\n",
    "\n",
    "次のコードは、糖尿病 CSV ファイルをアップロードした **diabetes-data** フォルダーへの参照を取得し、*ダウンロード*用のデータ参照を具体的に構成します。つまり、フォルダーのコンテンツを、データ参照が使用されているコンピューティング コンテキストにダウンロードするために使用できます。データのダウンロードは、ローカル コンピューティングで処理される少量のデータに適しています。リモート コンピューティングで操作する場合は、データストアの場所を*マウント*して、データソースから直接データを読み取るようにデータ参照を構成することもできます。\n",
    "\n",
    "> **詳細情報**: データストアの使用の詳細については、[Azure ML のドキュメント](https://docs.microsoft.com/azure/machine-learning/how-to-access-data)を参照してください。"
   ]
  },
  {
   "cell_type": "code",
   "execution_count": null,
   "metadata": {},
   "outputs": [],
   "source": [
    "data_ref = default_ds.path('diabetes-data').as_download(path_on_compute='diabetes_data')\n",
    "print(data_ref)"
   ]
  },
  {
   "cell_type": "markdown",
   "metadata": {},
   "source": [
    "トレーニング スクリプトでデータ参照を使用するには、そのパラメーターを定義する必要があります。次の 2 つのコード セルを実行して作成します。\n",
    "\n",
    "1.**diabetes_training_from_datastore** という名前のフォルダー\n",
    "2.渡されたデータ参照パラメーターによって参照されるフォルダー内のすべての CSV ファイルのトレーニング データを使用して分類モデルをトレーニングするスクリプト。"
   ]
  },
  {
   "cell_type": "code",
   "execution_count": null,
   "metadata": {},
   "outputs": [],
   "source": [
    "import os\n",
    "\n",
    "# 実験ファイル用フォルダーを作成する\n",
    "experiment_folder = 'diabetes_training_from_datastore'\n",
    "os.makedirs(experiment_folder, exist_ok=True)\n",
    "print(experiment_folder, 'folder created.')"
   ]
  },
  {
   "cell_type": "code",
   "execution_count": null,
   "metadata": {},
   "outputs": [],
   "source": [
    "%%writefile $experiment_folder/diabetes_training.py\n",
    "# ライブラリをインポートする\n",
    "import os\n",
    "import argparse\n",
    "from azureml.core import Run\n",
    "import pandas as pd\n",
    "import numpy as np\n",
    "import joblib\n",
    "from sklearn.model_selection import train_test_split\n",
    "from sklearn.linear_model import LogisticRegression\n",
    "from sklearn.metrics import roc_auc_score\n",
    "from sklearn.metrics import roc_curve\n",
    "\n",
    "# パラメーターを取得する\n",
    "parser = argparse.ArgumentParser()\n",
    "parser.add_argument('--regularization', type=float, dest='reg_rate', default=0.01, help='regularization rate')\n",
    "parser.add_argument('--data-folder', type=str, dest='data_folder', help='data folder reference')\n",
    "args = parser.parse_args()\n",
    "reg = args.reg_rate\n",
    "\n",
    "# 実験実行コンテキストを取得する\n",
    "run = Run.get_context()\n",
    "\n",
    "# データ参照から糖尿病データを読み込む\n",
    "data_folder = args.data_folder\n",
    "print(\"Loading data from\", data_folder)\n",
    "# すべてのファイルを読み込み、その内容を単一のデータフレームとして連結する\n",
    "all_files = os.listdir(data_folder)\n",
    "diabetes = pd.concat((pd.read_csv(os.path.join(data_folder,csv_file)) for csv_file in all_files))\n",
    "\n",
    "# フィーチャーとラベルを分離する\n",
    "X, y = diabetes[['Pregnancies','PlasmaGlucose','DiastolicBloodPressure','TricepsThickness','SerumInsulin','BMI','DiabetesPedigree','Age']].values, diabetes['Diabetic'].values\n",
    "\n",
    "# データをトレーニング セットとテスト セットに分割する\n",
    "X_train, X_test, y_train, y_test = train_test_split(X, y, test_size=0.30, random_state=0)\n",
    "\n",
    "# ロジスティック回帰モデルをトレーニングする\n",
    "print('Training a logistic regression model with regularization rate of', reg)\n",
    "run.log('Regularization Rate',  np.float(reg))\n",
    "model = LogisticRegression(C=1/reg, solver=\"liblinear\").fit(X_train, y_train)\n",
    "\n",
    "# 精度を計算する\n",
    "y_hat = model.predict(X_test)\n",
    "acc = np.average(y_hat == y_test)\n",
    "print('Accuracy:', acc)\n",
    "run.log('Accuracy', np.float(acc))\n",
    "\n",
    "# AUC を計算する\n",
    "y_scores = model.predict_proba(X_test)\n",
    "auc = roc_auc_score(y_test,y_scores[:,1])\n",
    "print('AUC: ' + str(auc))\n",
    "run.log('AUC', np.float(auc))\n",
    "\n",
    "os.makedirs('outputs', exist_ok=True)\n",
    "# 出力フォルダーに保存されたファイルは、自動的に実験レコードにアップロードされます\n",
    "joblib.dump(value=model, filename='outputs/diabetes_model.pkl')\n",
    "\n",
    "run.complete()"
   ]
  },
  {
   "cell_type": "markdown",
   "metadata": {},
   "source": [
    "スクリプトは、渡されたデータ参照からトレーニング データをパラメーターとして読み込むため、実験の実行時にファイル参照を渡すスクリプト パラメーターを設定する必要があるだけです。"
   ]
  },
  {
   "cell_type": "code",
   "execution_count": null,
   "metadata": {},
   "outputs": [],
   "source": [
    "from azureml.train.estimator import Estimator\n",
    "from azureml.core import Experiment, Environment\n",
    "from azureml.widgets import RunDetails\n",
    "\n",
    "# Python 環境を作成する\n",
    "env = Environment(\"env\")\n",
    "env.python.user_managed_dependencies = True\n",
    "env.docker.enabled = False\n",
    "\n",
    "# パラメーターをセットアップする\n",
    "script_params = {\n",
    "    '--regularization': 0.1, # 正規化率\n",
    "    '--data-folder': data_ref # データストアからファイルをダウンロードするためのデータ参照\n",
    "}\n",
    "\n",
    "\n",
    "# Estimator を作成する\n",
    "estimator = Estimator(source_directory=experiment_folder,\n",
    "                      entry_script='diabetes_training.py',\n",
    "                      script_params=script_params,\n",
    "                      compute_target = 'local',\n",
    "                      environment_definition=env\n",
    "                   )\n",
    "\n",
    "# 実験を作成する\n",
    "experiment_name = 'diabetes-training'\n",
    "experiment = Experiment(workspace=ws, name=experiment_name)\n",
    "\n",
    "# 実験を実行する\n",
    "run = experiment.submit(config=estimator)\n",
    "# 実行中に実行の詳細を表示する\n",
    "RunDetails(run).show()\n",
    "run.wait_for_completion()"
   ]
  },
  {
   "cell_type": "markdown",
   "metadata": {},
   "source": [
    "初めて実験を実行すると、Python 環境のセットアップに時間がかかる場合があります。以降の実行はより高速になります。\n",
    "\n",
    "実験が完了したら、ウィジェットで出力ログを表示し、データ ファイルがダウンロードされたことを確認します。\n",
    "\n",
    "すべての実験と同様に、[Azure ML Studio](https://ml.azure.com) で実行された実験の詳細を表示したり、生成されたメトリックとファイルを取得するコードを書き込んだりできます。"
   ]
  },
  {
   "cell_type": "code",
   "execution_count": null,
   "metadata": {},
   "outputs": [],
   "source": [
    "# 指標の記録を取得する\n",
    "metrics = run.get_metrics()\n",
    "for key in metrics.keys():\n",
    "        print(key, metrics.get(key))\n",
    "print('\\n')\n",
    "for file in run.get_file_names():\n",
    "    print(file)"
   ]
  },
  {
   "cell_type": "markdown",
   "metadata": {},
   "source": [
    "もう一度、実験によってトレーニングされたモデルを登録できます。"
   ]
  },
  {
   "cell_type": "code",
   "execution_count": null,
   "metadata": {},
   "outputs": [],
   "source": [
    "from azureml.core import Model\n",
    "\n",
    "# モデルを登録する\n",
    "run.register_model(model_path='outputs/diabetes_model.pkl', model_name='diabetes_model',\n",
    "                   tags={'Training context':'Using Datastore'}, properties={'AUC': run.get_metrics()['AUC'], 'Accuracy': run.get_metrics()['Accuracy']})\n",
    "\n",
    "# 登録済みモデルを一覧表示する\n",
    "print(\"Registered Models:\")\n",
    "for model in Model.list(ws):\n",
    "    print(model.name, 'version:', model.version)\n",
    "    for tag_name in model.tags:\n",
    "        tag = model.tags[tag_name]\n",
    "        print ('\\t',tag_name, ':', tag)\n",
    "    for prop_name in model.properties:\n",
    "        prop = model.properties[prop_name]\n",
    "        print ('\\t',prop_name, ':', prop)\n",
    "    print('\\n')"
   ]
  },
  {
   "cell_type": "markdown",
   "metadata": {},
   "source": [
    "この演習では、*データストア*の形式でデータを操作するためのいくつかのオプションについて説明しました。\n",
    "\n",
    "Azure Machine Learning では、データ抽象化をさらに高いレベルである*データセット形式*で提供しています。これについては、次に説明します。"
   ]
  }
 ],
 "metadata": {
  "kernelspec": {
   "display_name": "Python 3.6 - AzureML",
   "language": "python",
   "name": "python3-azureml"
  },
  "language_info": {
   "codemirror_mode": {
    "name": "ipython",
    "version": 3
   },
   "file_extension": ".py",
   "mimetype": "text/x-python",
   "name": "python",
   "nbconvert_exporter": "python",
   "pygments_lexer": "ipython3",
   "version": "3.6.9"
  }
 },
 "nbformat": 4,
 "nbformat_minor": 2
}