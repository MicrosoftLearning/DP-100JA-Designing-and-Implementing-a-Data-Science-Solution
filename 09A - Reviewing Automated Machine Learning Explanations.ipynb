{
 "cells": [
  {
   "cell_type": "markdown",
   "metadata": {},
   "source": [
    "# Automated Machine Learning の説明の確認\n",
    "\n",
    "機械学習がますます普及するにつれて、モデルによる予測は私たちの社会の多くの側面に大きな影響を与えます。たとえば、機械学習モデルは、銀行が融資を許可するか、医師が治療の優先順位を決定する方法においてますます重要な要素となっています。モデルを解釈して説明する能力はますます重要になり、機械学習モデルによる予測の根拠を説明し、正当化し、モデル内の不注意な偏りを特定することができます。\n",
    "\n",
    "自動機械学習を使用してモデルをトレーニングする場合、各機能がラベル予測に影響を与える程度を定量化する機能の重要性の説明を生成するオプションがあります。このラボでは、自動 Machine Learning 実験によって生成された説明について説明します。"
   ]
  },
  {
   "cell_type": "markdown",
   "metadata": {},
   "source": [
    "## ワークスペースに接続する\n",
    "\n",
    "まず、Azure ML SDK を使用してワークスペースに接続する必要があります。\n",
    "\n",
    "> **注**: 前回の演習を完了してから Azure サブスクリプションとの認証済みセッションの有効期限が切れている場合は、再認証を求めるメッセージが表示されます。"
   ]
  },
  {
   "cell_type": "code",
   "execution_count": null,
   "metadata": {},
   "outputs": [],
   "source": [
    "import azureml.core\n",
    "from azureml.core import Workspace\n",
    "\n",
    "# 保存した構成ファイルからワークスペースを読み込む\n",
    "ws = Workspace.from_config()\n",
    "print('Ready to use Azure ML {} to work with {}'.format(azureml.core.VERSION, ws.name))"
   ]
  },
  {
   "cell_type": "markdown",
   "metadata": {},
   "source": [
    "## コンピューティング先を準備する\n",
    "\n",
    "以前のラボで作成した Azure Machine Learning コンピューティング クラスターを使用します (これがない場合は作成されます)。\n",
    "\n",
    "> **重要**: 実行する前に、*コンピューティング クラスター*を以下のコードでコンピューティング クラスターの名前に変更してください。クラスター名は、長さが 2 〜 16 文字のグローバルに一意の名前である必要があります。英字、数字、- の文字が有効です。"
   ]
  },
  {
   "cell_type": "code",
   "execution_count": null,
   "metadata": {},
   "outputs": [],
   "source": [
    "from azureml.core.compute import ComputeTarget, AmlCompute\n",
    "from azureml.core.compute_target import ComputeTargetException\n",
    "\n",
    "cluster_name = \"your-compute-cluster\"\n",
    "\n",
    "try:\n",
    "    # Check for existing compute target\n",
    "    training_cluster = ComputeTarget(workspace=ws, name=cluster_name)\n",
    "    print('Found existing cluster, use it.')\n",
    "except ComputeTargetException:\n",
    "    # If it doesn't already exist, create it\n",
    "    try:\n",
    "        compute_config = AmlCompute.provisioning_configuration(vm_size='STANDARD_DS11_V2', max_nodes=2)\n",
    "        training_cluster = ComputeTarget.create(ws, cluster_name, compute_config)\n",
    "        training_cluster.wait_for_completion(show_output=True)\n",
    "    except Exception as ex:\n",
    "        print(ex)\n",
    "    "
   ]
  },
  {
   "cell_type": "markdown",
   "metadata": {},
   "source": [
    "## 自動 Machine Learning 実験を実行する\n",
    "\n",
    "このラボの時間を短縮するために、3 回の反復のみで自動 Machine Learning 実験を実行します。\n",
    "\n",
    "**model_explainability** 構成オプションが **True** に設定されていることに注意してください。"
   ]
  },
  {
   "cell_type": "code",
   "execution_count": null,
   "metadata": {},
   "outputs": [],
   "source": [
    "import pandas as pd\n",
    "from azureml.train.automl import AutoMLConfig\n",
    "from azureml.core.experiment import Experiment\n",
    "from azureml.widgets import RunDetails\n",
    "from azureml.core import Dataset\n",
    "\n",
    "try:\n",
    "    # Prepare data for training\n",
    "    default_ds = ws.get_default_datastore()\n",
    "    if 'diabetes dataset' not in ws.datasets:\n",
    "        default_ds.upload_files(files=['./data/diabetes.csv', './data/diabetes2.csv'], # Upload the diabetes csv files in /data\n",
    "                            target_path='diabetes-data/', # Put it in a folder path in the datastore\n",
    "                            overwrite=True, # Replace existing files of the same name\n",
    "                            show_progress=True)\n",
    "\n",
    "        # Create a tabular dataset from the path on the datastore (this may take a short while)\n",
    "        tab_data_set = Dataset.Tabular.from_delimited_files(path=(default_ds, 'diabetes-data/*.csv'))\n",
    "\n",
    "        # Register the tabular dataset\n",
    "        try:\n",
    "            tab_data_set = tab_data_set.register(workspace=ws, \n",
    "                                    name='diabetes dataset',\n",
    "                                    description='diabetes data',\n",
    "                                    tags = {'format':'CSV'},\n",
    "                                    create_new_version=True)\n",
    "            print('Dataset registered.')\n",
    "        except Exception as ex:\n",
    "            print(ex)\n",
    "    else:\n",
    "        print('Dataset already registered.')\n",
    "    train_data = ws.datasets.get(\"diabetes dataset\")\n",
    "\n",
    "\n",
    "    # Configure Auto ML\n",
    "    automl_config = AutoMLConfig(name='Automated ML Experiment',\n",
    "                                task='classification',\n",
    "                                compute_target=training_cluster,\n",
    "                                training_data = train_data,\n",
    "                                n_cross_validations = 2,\n",
    "                                label_column_name='Diabetic',\n",
    "                                iterations=3,\n",
    "                                primary_metric = 'AUC_weighted',\n",
    "                                max_concurrent_iterations=3,\n",
    "                                featurization='off',\n",
    "                                model_explainability=True # Generate feature importance!\n",
    "                                )\n",
    "\n",
    "    # Run the Auto ML experiment\n",
    "    print('Submitting Auto ML experiment...')\n",
    "    automl_experiment = Experiment(ws, 'diabetes_automl')\n",
    "    automl_run = automl_experiment.submit(automl_config)\n",
    "    automl_run.wait_for_completion(show_output=True)\n",
    "    RunDetails(automl_run).show()\n",
    "\n",
    "except Exception as ex:\n",
    "    print(ex)"
   ]
  },
  {
   "cell_type": "markdown",
   "metadata": {},
   "source": [
    "## 特徴の重要度を表示する\n",
    "\n",
    "上のウィジェットで実験が完了したら、最適な結果を生成した実行をクリックして詳細を表示します。次に、視覚化の下部までスクロールして、特徴の相対的な重要度を確認します。\n"
   ]
  },
  {
   "cell_type": "markdown",
   "metadata": {},
   "source": [
    "## Azure Machine Learning Studio でモデルの説明を表示する\n",
    "\n",
    "実験の実行が完了したら、ウィジェット内のリンクをクリックして Azure Machine Learning Studio で実行を確認し、**説明**タブを表示します。次に以下を実行します。\n",
    "\n",
    "1. 自動 Machine Learning によって作成された Explainer を選択します。\n",
    "2. 全体的なグローバル特徴の重要度を示す **グローバル重要度** グラフを表示します。\n",
    "3. **サマリー重要度** グラフを表示すると、*スウォーム*、*バイオリン*、*ボックス* プロットのテスト データの各データ ポイントが表示されます。\n",
    "4. 個々のポイントを選択すると、選択したデータ ポイントの個々の予測の **ローカル特徴の重要度** が表示されます。"
   ]
  },
  {
   "cell_type": "markdown",
   "metadata": {},
   "source": [
    "> **詳細情報**: 自動 Machine Learning の詳細については、[Azure ML のドキュメント](https://docs.microsoft.com/azure/machine-learning/how-to-machine-learning-interpretability-automl)を参照してください。"
   ]
  }
 ],
 "metadata": {
  "kernelspec": {
   "display_name": "Python 3.6 - AzureML",
   "language": "python",
   "name": "python3-azureml"
  },
  "language_info": {
   "codemirror_mode": {
    "name": "ipython",
    "version": 3
   },
   "file_extension": ".py",
   "mimetype": "text/x-python",
   "name": "python",
   "nbconvert_exporter": "python",
   "pygments_lexer": "ipython3",
   "version": "3.6.9"
  }
 },
 "nbformat": 4,
 "nbformat_minor": 2
}